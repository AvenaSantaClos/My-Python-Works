{
 "cells": [
  {
   "cell_type": "code",
   "execution_count": 1,
   "id": "84cfca95",
   "metadata": {
    "scrolled": true
   },
   "outputs": [],
   "source": [
    "username = ['julia', 'sara']"
   ]
  },
  {
   "cell_type": "code",
   "execution_count": 2,
   "id": "75300eaf",
   "metadata": {},
   "outputs": [
    {
     "name": "stdout",
     "output_type": "stream",
     "text": [
      "Escribe tu nombre: 4\n",
      "['julia', 'sara', '4']\n"
     ]
    }
   ],
   "source": [
    "name = input ('Escribe tu nombre: ')\n",
    "username.append(name)\n",
    "print(username)"
   ]
  },
  {
   "cell_type": "code",
   "execution_count": 3,
   "id": "cffde074",
   "metadata": {},
   "outputs": [],
   "source": [
    "userage = ['30', '31']"
   ]
  },
  {
   "cell_type": "code",
   "execution_count": 4,
   "id": "64eace62",
   "metadata": {},
   "outputs": [],
   "source": [
    "goku = userage"
   ]
  },
  {
   "cell_type": "code",
   "execution_count": 5,
   "id": "04d3a0ea",
   "metadata": {},
   "outputs": [
    {
     "name": "stdout",
     "output_type": "stream",
     "text": [
      "Escribe tu edad: 5\n",
      "['30', '31', '5']\n"
     ]
    }
   ],
   "source": [
    "age = input ('Escribe tu edad: ')\n",
    "userage.append(age)\n",
    "print(userage)"
   ]
  },
  {
   "cell_type": "code",
   "execution_count": 6,
   "id": "b8f20dc0",
   "metadata": {},
   "outputs": [],
   "source": [
    "usermail = ['a@g.com']"
   ]
  },
  {
   "cell_type": "code",
   "execution_count": 7,
   "id": "80046eb4",
   "metadata": {},
   "outputs": [
    {
     "name": "stdout",
     "output_type": "stream",
     "text": [
      "Escribe tu correo: 5\n",
      "['a@g.com', '5']\n"
     ]
    }
   ],
   "source": [
    "mail = input ('Escribe tu correo: ')\n",
    "usermail.append(mail)\n",
    "print(usermail)"
   ]
  },
  {
   "cell_type": "code",
   "execution_count": 8,
   "id": "8be467c4",
   "metadata": {},
   "outputs": [],
   "source": [
    "userjob = ['teacher']"
   ]
  },
  {
   "cell_type": "code",
   "execution_count": 9,
   "id": "850bd3be",
   "metadata": {
    "scrolled": true
   },
   "outputs": [
    {
     "name": "stdout",
     "output_type": "stream",
     "text": [
      "Escribe tu ocupación: 5\n",
      "['teacher', '5']\n"
     ]
    }
   ],
   "source": [
    "job = input ('Escribe tu ocupación: ')\n",
    "userjob.append(job)\n",
    "print(userjob)"
   ]
  },
  {
   "cell_type": "code",
   "execution_count": 18,
   "id": "e46e99f9",
   "metadata": {},
   "outputs": [
    {
     "name": "stdout",
     "output_type": "stream",
     "text": [
      "Escribe tu salario mensual: 4000\n"
     ]
    }
   ],
   "source": [
    "monthlyincome = int(input ('Escribe tu salario mensual: '))"
   ]
  },
  {
   "cell_type": "code",
   "execution_count": 19,
   "id": "63d540f8",
   "metadata": {},
   "outputs": [
    {
     "name": "stdout",
     "output_type": "stream",
     "text": [
      "Tu dinero semanal es:  1000.0\n"
     ]
    }
   ],
   "source": [
    "print (f'Tu dinero semanal es:  {monthlyincome/4}')"
   ]
  },
  {
   "cell_type": "code",
   "execution_count": 21,
   "id": "620a386b",
   "metadata": {},
   "outputs": [
    {
     "name": "stdout",
     "output_type": "stream",
     "text": [
      "Tu dinero semestral es: 24000\n"
     ]
    }
   ],
   "source": [
    "print (f'Tu dinero semestral es: {monthlyincome*6}')"
   ]
  },
  {
   "cell_type": "code",
   "execution_count": 22,
   "id": "cd38edcb",
   "metadata": {},
   "outputs": [
    {
     "name": "stdout",
     "output_type": "stream",
     "text": [
      "Tu dinero anual es: 48000\n"
     ]
    }
   ],
   "source": [
    "print (f'Tu dinero anual es: {monthlyincome*12}')"
   ]
  },
  {
   "cell_type": "code",
   "execution_count": null,
   "id": "56d5b805",
   "metadata": {},
   "outputs": [],
   "source": []
  }
 ],
 "metadata": {
  "kernelspec": {
   "display_name": "Python 3 (ipykernel)",
   "language": "python",
   "name": "python3"
  },
  "language_info": {
   "codemirror_mode": {
    "name": "ipython",
    "version": 3
   },
   "file_extension": ".py",
   "mimetype": "text/x-python",
   "name": "python",
   "nbconvert_exporter": "python",
   "pygments_lexer": "ipython3",
   "version": "3.9.13"
  }
 },
 "nbformat": 4,
 "nbformat_minor": 5
}
