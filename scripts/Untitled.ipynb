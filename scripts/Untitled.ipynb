{
 "cells": [
  {
   "cell_type": "code",
   "execution_count": 1,
   "id": "84cfca95",
   "metadata": {
    "scrolled": true
   },
   "outputs": [],
   "source": [
    "username = ['julia', 'sara']"
   ]
  },
  {
   "cell_type": "code",
   "execution_count": 2,
   "id": "75300eaf",
   "metadata": {},
   "outputs": [
    {
     "name": "stdout",
     "output_type": "stream",
     "text": [
      "Escribe tu nombre: 4\n",
      "['julia', 'sara', '4']\n"
     ]
    }
   ],
   "source": [
    "name = input ('Escribe tu nombre: ')\n",
    "username.append(name)\n",
    "print(username)"
   ]
  },
  {
   "cell_type": "code",
   "execution_count": 3,
   "id": "cffde074",
   "metadata": {},
   "outputs": [],
   "source": [
    "userage = ['30', '31']"
   ]
  },
  {
   "cell_type": "code",
   "execution_count": 4,
   "id": "64eace62",
   "metadata": {},
   "outputs": [],
   "source": [
    "goku = userage"
   ]
  },
  {
   "cell_type": "code",
   "execution_count": 5,
   "id": "04d3a0ea",
   "metadata": {},
   "outputs": [
    {
     "name": "stdout",
     "output_type": "stream",
     "text": [
      "Escribe tu edad: 5\n",
      "['30', '31', '5']\n"
     ]
    }
   ],
   "source": [
    "age = input ('Escribe tu edad: ')\n",
    "userage.append(age)\n",
    "print(userage)"
   ]
  },
  {
   "cell_type": "code",
   "execution_count": 6,
   "id": "b8f20dc0",
   "metadata": {},
   "outputs": [],
   "source": [
    "usermail = ['a@g.com']"
   ]
  },
  {
   "cell_type": "code",
   "execution_count": 7,
   "id": "80046eb4",
   "metadata": {},
   "outputs": [
    {
     "name": "stdout",
     "output_type": "stream",
     "text": [
      "Escribe tu correo: 5\n",
      "['a@g.com', '5']\n"
     ]
    }
   ],
   "source": [
    "mail = input ('Escribe tu correo: ')\n",
    "usermail.append(mail)\n",
    "print(usermail)"
   ]
  },
  {
   "cell_type": "code",
   "execution_count": 8,
   "id": "8be467c4",
   "metadata": {},
   "outputs": [],
   "source": [
    "userjob = ['teacher']"
   ]
  },
  {
   "cell_type": "code",
   "execution_count": 9,
   "id": "850bd3be",
   "metadata": {
    "scrolled": true
   },
   "outputs": [
    {
     "name": "stdout",
     "output_type": "stream",
     "text": [
      "Escribe tu ocupación: 5\n",
      "['teacher', '5']\n"
     ]
    }
   ],
   "source": [
    "job = input ('Escribe tu ocupación: ')\n",
    "userjob.append(job)\n",
    "print(userjob)"
   ]
  },
  {
   "cell_type": "code",
   "execution_count": 18,
   "id": "e46e99f9",
   "metadata": {},
   "outputs": [
    {
     "name": "stdout",
     "output_type": "stream",
     "text": [
      "Escribe tu salario mensual: 4000\n"
     ]
    }
   ],
   "source": [
    "monthlyincome = int(input ('Escribe tu salario mensual: '))"
   ]
  },
  {
   "cell_type": "code",
   "execution_count": 19,
   "id": "63d540f8",
   "metadata": {},
   "outputs": [
    {
     "name": "stdout",
     "output_type": "stream",
     "text": [
      "Tu dinero semanal es:  1000.0\n"
     ]
    }
   ],
   "source": [
    "print (f'Tu dinero semanal es:  {monthlyincome/4}')"
   ]
  },
  {
   "cell_type": "code",
   "execution_count": 21,
   "id": "620a386b",
   "metadata": {},
   "outputs": [
    {
     "name": "stdout",
     "output_type": "stream",
     "text": [
      "Tu dinero semestral es: 24000\n"
     ]
    }
   ],
   "source": [
    "print (f'Tu dinero semestral es: {monthlyincome*6}')"
   ]
  },
  {
   "cell_type": "code",
   "execution_count": 22,
   "id": "cd38edcb",
   "metadata": {},
   "outputs": [
    {
     "name": "stdout",
     "output_type": "stream",
     "text": [
      "Tu dinero anual es: 48000\n"
     ]
    }
   ],
   "source": [
    "print (f'Tu dinero anual es: {monthlyincome*12}')"
   ]
  },
  {
   "cell_type": "code",
   "execution_count": 10,
   "id": "56d5b805",
   "metadata": {},
   "outputs": [],
   "source": [
    "def realpayment(loan, interest, periods):\n",
    "    amount = loan * interest * periods + loan\n",
    "    return amount"
   ]
  },
  {
   "cell_type": "code",
   "execution_count": 11,
   "id": "df3ec122",
   "metadata": {},
   "outputs": [
    {
     "name": "stdout",
     "output_type": "stream",
     "text": [
      "Cuánto crédito quieres: 1000\n"
     ]
    }
   ],
   "source": [
    "loan = int(input ('Cuánto crédito quieres: '))\n",
    "."
   ]
  },
  {
   "cell_type": "code",
   "execution_count": 12,
   "id": "8b58d7db",
   "metadata": {},
   "outputs": [],
   "source": [
    "interest = 0.10"
   ]
  },
  {
   "cell_type": "code",
   "execution_count": 13,
   "id": "2d35a328",
   "metadata": {},
   "outputs": [
    {
     "name": "stdout",
     "output_type": "stream",
     "text": [
      "A cuántos años quieres el crédito: 2\n"
     ]
    }
   ],
   "source": [
    "periods = int(input ('A cuántos años quieres el crédito: '))"
   ]
  },
  {
   "cell_type": "code",
   "execution_count": 14,
   "id": "1d4dbb2a",
   "metadata": {},
   "outputs": [],
   "source": [
    "total = realpayment (loan, interest, periods)"
   ]
  },
  {
   "cell_type": "code",
   "execution_count": 15,
   "id": "e1898ae9",
   "metadata": {},
   "outputs": [
    {
     "name": "stdout",
     "output_type": "stream",
     "text": [
      "1200.0\n"
     ]
    }
   ],
   "source": [
    "print (total)"
   ]
  },
  {
   "cell_type": "code",
   "execution_count": 26,
   "id": "487990c4",
   "metadata": {},
   "outputs": [],
   "source": [
    "def arearectangle(base,height):\n",
    "    area = base * height\n",
    "    return area\n",
    "\n",
    "def areasquare(side):\n",
    "    area = side * side\n",
    "    return area\n",
    "\n",
    "def areacircle(radius):\n",
    "    area = 3.14 * radius * radius\n",
    "    return area\n",
    "\n",
    "def areatriangle(base,height):\n",
    "    area = (base * height)/2\n",
    "    return area"
   ]
  },
  {
   "cell_type": "code",
   "execution_count": 27,
   "id": "f690ae9d",
   "metadata": {},
   "outputs": [],
   "source": [
    "def calculaterectangle():\n",
    "    base = float(input ('Cuál es la base: '))\n",
    "    height = float(input ('Cuál es la altura: '))\n",
    "    area = arearectangle (base, height)\n",
    "    print ('Su área es: ', area)\n",
    "    \n",
    "def calculatesquare():\n",
    "    side = float(input ('Cuál es el lado: '))\n",
    "    area = areasquare (side)\n",
    "    print ('Su área es: ', area)\n",
    "    \n",
    "def calculatecircle():\n",
    "    radius = float(input ('Cuál es el radio: '))\n",
    "    area = areacircle (radius)\n",
    "    print ('Su área es: ', area)\n",
    "    \n",
    "def calculatetriangle():\n",
    "    base = float(input ('Cuál es la base: '))\n",
    "    height = float(input ('Cuál es la altura: '))\n",
    "    area = areatriangle (base, height)\n",
    "    print ('Su área es: ', area)"
   ]
  },
  {
   "cell_type": "code",
   "execution_count": 28,
   "id": "28442ab0",
   "metadata": {},
   "outputs": [
    {
     "name": "stdout",
     "output_type": "stream",
     "text": [
      "Menú: Rectangulo 1, Cuadrado 2, Círculo 3, Triángulo 4\n",
      "Cuál figura quiere: 4\n",
      "Cuál es la base: 4\n",
      "Cuál es la altura: 2\n",
      "Su área es:  4.0\n"
     ]
    }
   ],
   "source": [
    "rectangle = 1\n",
    "square = 2\n",
    "circle = 3\n",
    "triangle = 4\n",
    "\n",
    "print ('Menú: Rectangulo 1, Cuadrado 2, Círculo 3, Triángulo 4')\n",
    "\n",
    "choice = int(input ('Cuál figura quiere: '))\n",
    "if choice == rectangle:\n",
    "    calculaterectangle()\n",
    "\n",
    "elif choice == square:\n",
    "    calculatesquare()\n",
    "    \n",
    "elif choice == circle:\n",
    "    calculatecircle()\n",
    "    \n",
    "elif choice == triangle:\n",
    "    calculatetriangle()"
   ]
  },
  {
   "cell_type": "code",
   "execution_count": null,
   "id": "1c430b9b",
   "metadata": {},
   "outputs": [],
   "source": []
  }
 ],
 "metadata": {
  "kernelspec": {
   "display_name": "Python 3 (ipykernel)",
   "language": "python",
   "name": "python3"
  },
  "language_info": {
   "codemirror_mode": {
    "name": "ipython",
    "version": 3
   },
   "file_extension": ".py",
   "mimetype": "text/x-python",
   "name": "python",
   "nbconvert_exporter": "python",
   "pygments_lexer": "ipython3",
   "version": "3.9.13"
  }
 },
 "nbformat": 4,
 "nbformat_minor": 5
}
